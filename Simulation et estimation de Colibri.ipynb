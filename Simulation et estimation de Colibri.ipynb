{
 "cells": [
  {
   "cell_type": "markdown",
   "metadata": {},
   "source": [
    "## Installation de la bibliothèque :\n",
    " * pip install macronometrics-0.0.1.zip\n",
    " * vérifier le répertoire /donnees/colibri -> les fichiers small_db.csv et small_coeffs.csv doivent être présents.\n",
    " * vérifier le répertoire /codes_troll -> le fichier colibri.txt doit être présent."
   ]
  },
  {
   "cell_type": "code",
   "execution_count": 1,
   "metadata": {},
   "outputs": [],
   "source": [
    "import os\n",
    "import pandas as pd\n",
    "import sys\n",
    "import numpy as np"
   ]
  },
  {
   "cell_type": "code",
   "execution_count": 2,
   "metadata": {},
   "outputs": [],
   "source": [
    "import macronometrics.model as m"
   ]
  },
  {
   "cell_type": "code",
   "execution_count": 3,
   "metadata": {},
   "outputs": [],
   "source": [
    "import macronometrics.tools as t\n",
    "import macronometrics.tools_ts as ts"
   ]
  },
  {
   "cell_type": "markdown",
   "metadata": {},
   "source": [
    "# Lecture du fichier d'équations définissant le modèle #"
   ]
  },
  {
   "cell_type": "markdown",
   "metadata": {},
   "source": [
    "Un objet Model est instancié à partir du fichier d'équations. Pour plus d'informations sur les variables utilisées et les équations économétriques, voir : https://www.insee.fr/fr/statistiques/1380857 (dont Colibri est une simplification)."
   ]
  },
  {
   "cell_type": "code",
   "execution_count": 4,
   "metadata": {},
   "outputs": [],
   "source": [
    "colibri=m.Model()\n",
    "colibri.lexer(\"./codes_troll/colibriBF.txt\")"
   ]
  },
  {
   "cell_type": "markdown",
   "metadata": {},
   "source": [
    "# Chargement du modèle #"
   ]
  },
  {
   "cell_type": "code",
   "execution_count": null,
   "metadata": {
    "scrolled": true
   },
   "outputs": [],
   "source": [
    "colibri"
   ]
  },
  {
   "cell_type": "markdown",
   "metadata": {},
   "source": [
    "Le modèle est composé d'équations, de variables (endogènes / exogènes / policy) et de coefficients (ayant vocation à être estimés)."
   ]
  },
  {
   "cell_type": "code",
   "execution_count": null,
   "metadata": {},
   "outputs": [],
   "source": [
    "colibri.eq_obj_dict['tc_d41_s14s3']"
   ]
  },
  {
   "cell_type": "markdown",
   "metadata": {},
   "source": [
    "# Construction de la fonction de résolution #"
   ]
  },
  {
   "cell_type": "markdown",
   "metadata": {},
   "source": [
    "On vérifie que le modèle n'est pas encore construit, c'est à dire que les lignes de texte qui constituent les équations du modèle n'ont pas encore été interprétées pour constituer des objets sur lesquelles on va ensuite pouvoir travailler."
   ]
  },
  {
   "cell_type": "code",
   "execution_count": null,
   "metadata": {
    "scrolled": true
   },
   "outputs": [],
   "source": [
    "colibri.is_built"
   ]
  },
  {
   "cell_type": "markdown",
   "metadata": {},
   "source": [
    "On lance la fonction de construction du modèle, qui va utiliser l'algorithme de décomposition pour analyser la structure du système d'équations et la réduire. Un nom de fonction doit être donné : prendre le même nom que celui du modèle."
   ]
  },
  {
   "cell_type": "code",
   "execution_count": 5,
   "metadata": {},
   "outputs": [
    {
     "name": "stdout",
     "output_type": "stream",
     "text": [
      "The model has  54  equations.\n",
      "\n",
      "54  endogenous variables declared.\n",
      "\n",
      "The analysis of the model took 0.815 secondes.\n",
      "\n",
      "The computation of the derivatives of the model took 0.003 secondes.\n",
      "\n",
      "The block decomposition has 1 blocks.\n",
      "\n",
      "The block decomposition took 0.823 seconds.\n",
      "\n",
      "Building  the function took 0.008 seconds.\n",
      "\n"
     ]
    }
   ],
   "source": [
    "colibri.build_model(\"colibri\")"
   ]
  },
  {
   "cell_type": "code",
   "execution_count": null,
   "metadata": {},
   "outputs": [],
   "source": [
    "colibri.is_built"
   ]
  },
  {
   "cell_type": "markdown",
   "metadata": {},
   "source": [
    "A ce stade, deux types de fichiers ont été produits (dans le répertoire /modeles_python/) :\n",
    "* Un fichier colibri.yaml permettant de vérifier les statuts des variables de chaque équation\n",
    "* Un fichier colibri.py comprenant différentes fonctions nécessaires à la résolution du modèle\n",
    "\n",
    "### Ouvrir le fichier colibri.yaml et comparer son contenu avec le fichier colibri.txt ."
   ]
  },
  {
   "cell_type": "markdown",
   "metadata": {},
   "source": [
    "Chaque équation est désormais analysée en vue de la simulation."
   ]
  },
  {
   "cell_type": "code",
   "execution_count": null,
   "metadata": {},
   "outputs": [],
   "source": [
    "colibri.eq_obj_dict['tc_d41_s14s3']"
   ]
  },
  {
   "cell_type": "markdown",
   "metadata": {},
   "source": [
    "# Chargement des données du modèle #"
   ]
  },
  {
   "cell_type": "markdown",
   "metadata": {},
   "source": [
    "On va tout d'abord travailler avec une base où les cales ont été fixées à 0 (elles n'ont pas encore été calculées). Ces séries temporelles sont issues des comptes trimestriels publiés par l'Insee et sont rassemblées dans un fichier .csv ."
   ]
  },
  {
   "cell_type": "code",
   "execution_count": 6,
   "metadata": {},
   "outputs": [],
   "source": [
    "datamodel=pd.read_csv(\"./donnees/colibri/small_db.csv\",index_col=0,parse_dates=True)"
   ]
  },
  {
   "cell_type": "markdown",
   "metadata": {},
   "source": [
    "On vérifie l'importation sur les dernières dates. Les cales ont un suffixe \"_cale\" dans le nom des variables."
   ]
  },
  {
   "cell_type": "code",
   "execution_count": null,
   "metadata": {
    "scrolled": true
   },
   "outputs": [],
   "source": [
    "datamodel.tail()"
   ]
  },
  {
   "cell_type": "markdown",
   "metadata": {},
   "source": [
    "# Chargement des coefficients #"
   ]
  },
  {
   "cell_type": "markdown",
   "metadata": {},
   "source": [
    "On construit le dictionnaire des paramètres/coefficients du modèle à partir de leur importation. Plus tard, les coefficients pourront être initialisés sans valeur et celle ci sera estimée."
   ]
  },
  {
   "cell_type": "code",
   "execution_count": 7,
   "metadata": {},
   "outputs": [],
   "source": [
    "coeffmod = t.readcoeffs(\"./donnees/colibri/small_coeffs.csv\")"
   ]
  },
  {
   "cell_type": "code",
   "execution_count": null,
   "metadata": {},
   "outputs": [],
   "source": []
  },
  {
   "cell_type": "code",
   "execution_count": 8,
   "metadata": {},
   "outputs": [],
   "source": [
    "eqtest = colibri.eq_obj_dict['tc_d11_d5']"
   ]
  },
  {
   "cell_type": "code",
   "execution_count": 9,
   "metadata": {
    "scrolled": true
   },
   "outputs": [
    {
     "data": {
      "text/plain": [
       "Equation : tc_d11_d5 \n",
       "Texte : del(log(tc_d11_d5)) = c0d11d5'c +ar1d11d5'c*del(log(tc_d11_d5(-1))) +pc0d11d5'c*del(log(td_p3m_d5)) +dum1d11d5'c*(dum_1982q3-dum_1983q1) +c3d11dim5'c*log(tcho) +d11_d5_cale \n",
       "Numéro : 40 \n",
       "Coefficients : ['ar1d11d5', 'c0d11d5', 'c3d11dim5', 'dum1d11d5', 'pc0d11d5'] \n",
       "Exogènes : ['dum_1982q3', 'dum_1983q1'] \n",
       "Policy : ['d11_d5_cale'] \n",
       "Endogènes contemporaines : ['tc_d11_d5', 'tcho', 'td_p3m_d5'] \n",
       "Endogènes retardées : ['tc_d11_d5', 'td_p3m_d5'] "
      ]
     },
     "execution_count": 9,
     "metadata": {},
     "output_type": "execute_result"
    }
   ],
   "source": [
    "eqtest"
   ]
  },
  {
   "cell_type": "code",
   "execution_count": 34,
   "metadata": {},
   "outputs": [
    {
     "name": "stdout",
     "output_type": "stream",
     "text": [
      "define_eq\n",
      "  deltaone\n",
      "    log\n",
      "      var\ttc_d11_d5\n",
      "  add\n",
      "    add\n",
      "      add\n",
      "        add\n",
      "          add\n",
      "            coeff\tc0d11d5\n",
      "            mul\n",
      "              coeff\tar1d11d5\n",
      "              deltaone\n",
      "                log\n",
      "                  lag\n",
      "                    var\ttc_d11_d5\n",
      "                    -1\n",
      "          mul\n",
      "            coeff\tpc0d11d5\n",
      "            deltaone\n",
      "              log\n",
      "                var\ttd_p3m_d5\n",
      "        mul\n",
      "          coeff\tdum1d11d5\n",
      "          par\n",
      "            sub\n",
      "              var\tdum_1982q3\n",
      "              var\tdum_1983q1\n",
      "      mul\n",
      "        coeff\tc3d11dim5\n",
      "        log\n",
      "          var\ttcho\n",
      "    var\td11_d5_cale\n",
      "\n"
     ]
    }
   ],
   "source": [
    "eqtest.print_tree()"
   ]
  },
  {
   "cell_type": "code",
   "execution_count": null,
   "metadata": {},
   "outputs": [],
   "source": [
    "eqtest.endo_name_list"
   ]
  },
  {
   "cell_type": "code",
   "execution_count": null,
   "metadata": {},
   "outputs": [],
   "source": [
    "eqtest.endo_eq_dict"
   ]
  },
  {
   "cell_type": "code",
   "execution_count": null,
   "metadata": {},
   "outputs": [],
   "source": [
    "eqtest.coeff_eq_dict"
   ]
  },
  {
   "cell_type": "code",
   "execution_count": null,
   "metadata": {},
   "outputs": [],
   "source": []
  },
  {
   "cell_type": "markdown",
   "metadata": {},
   "source": [
    "# Estimation d'une équation"
   ]
  },
  {
   "cell_type": "code",
   "execution_count": 10,
   "metadata": {},
   "outputs": [],
   "source": [
    "import macronometrics.estimation as estim"
   ]
  },
  {
   "cell_type": "markdown",
   "metadata": {},
   "source": [
    "Déclaration d'un objet Estim"
   ]
  },
  {
   "cell_type": "code",
   "execution_count": 11,
   "metadata": {},
   "outputs": [
    {
     "name": "stdout",
     "output_type": "stream",
     "text": [
      "Variables dans l'équation\n",
      "\n",
      "['d11_d5_cale', 'dum_1982q3', 'dum_1983q1', 'tc_d11_d5', 'tcho', 'td_p3m_d5']\n",
      "5 coefficient(s) à estimer\n",
      "\n",
      "['ar1d11d5', 'c0d11d5', 'c3d11dim5', 'dum1d11d5', 'pc0d11d5']\n"
     ]
    }
   ],
   "source": [
    "test = estim.Estim(colibri.eq_obj_dict['tc_d11_d5'], colibri, datamodel)"
   ]
  },
  {
   "cell_type": "code",
   "execution_count": 12,
   "metadata": {},
   "outputs": [
    {
     "data": {
      "text/plain": [
       "{'ar1d11d5': 0, 'c0d11d5': 1, 'c3d11dim5': 2, 'dum1d11d5': 3, 'pc0d11d5': 4}"
      ]
     },
     "execution_count": 12,
     "metadata": {},
     "output_type": "execute_result"
    }
   ],
   "source": [
    "test.coeff_eq_dict_loc"
   ]
  },
  {
   "cell_type": "code",
   "execution_count": 13,
   "metadata": {},
   "outputs": [
    {
     "data": {
      "text/plain": [
       "{'d11_d5_cale': 0,\n",
       " 'dum_1982q3': 1,\n",
       " 'dum_1983q1': 2,\n",
       " 'tc_d11_d5': 3,\n",
       " 'tcho': 4,\n",
       " 'td_p3m_d5': 5}"
      ]
     },
     "execution_count": 13,
     "metadata": {},
     "output_type": "execute_result"
    }
   ],
   "source": [
    "test.var_eq_dict_loc"
   ]
  },
  {
   "cell_type": "markdown",
   "metadata": {},
   "source": [
    "Base de données locale contenant uniquement les séries nécessaires pour évaluer l'équation (faire attention à mettre la cale à zero)"
   ]
  },
  {
   "cell_type": "code",
   "execution_count": 14,
   "metadata": {},
   "outputs": [
    {
     "data": {
      "text/html": [
       "<div>\n",
       "<style scoped>\n",
       "    .dataframe tbody tr th:only-of-type {\n",
       "        vertical-align: middle;\n",
       "    }\n",
       "\n",
       "    .dataframe tbody tr th {\n",
       "        vertical-align: top;\n",
       "    }\n",
       "\n",
       "    .dataframe thead th {\n",
       "        text-align: right;\n",
       "    }\n",
       "</style>\n",
       "<table border=\"1\" class=\"dataframe\">\n",
       "  <thead>\n",
       "    <tr style=\"text-align: right;\">\n",
       "      <th></th>\n",
       "      <th>d11_d5_cale</th>\n",
       "      <th>dum_1982q3</th>\n",
       "      <th>dum_1983q1</th>\n",
       "      <th>tc_d11_d5</th>\n",
       "      <th>tcho</th>\n",
       "      <th>td_p3m_d5</th>\n",
       "    </tr>\n",
       "  </thead>\n",
       "  <tbody>\n",
       "    <tr>\n",
       "      <th>1978-01-01</th>\n",
       "      <td>0</td>\n",
       "      <td>0</td>\n",
       "      <td>0</td>\n",
       "      <td>1.853796</td>\n",
       "      <td>4.500000</td>\n",
       "      <td>0.346767</td>\n",
       "    </tr>\n",
       "    <tr>\n",
       "      <th>1978-04-01</th>\n",
       "      <td>0</td>\n",
       "      <td>0</td>\n",
       "      <td>0</td>\n",
       "      <td>1.908479</td>\n",
       "      <td>4.500000</td>\n",
       "      <td>0.355207</td>\n",
       "    </tr>\n",
       "    <tr>\n",
       "      <th>1978-07-01</th>\n",
       "      <td>0</td>\n",
       "      <td>0</td>\n",
       "      <td>0</td>\n",
       "      <td>1.973674</td>\n",
       "      <td>4.500000</td>\n",
       "      <td>0.365245</td>\n",
       "    </tr>\n",
       "    <tr>\n",
       "      <th>1978-10-01</th>\n",
       "      <td>0</td>\n",
       "      <td>0</td>\n",
       "      <td>0</td>\n",
       "      <td>2.028235</td>\n",
       "      <td>4.700000</td>\n",
       "      <td>0.373536</td>\n",
       "    </tr>\n",
       "    <tr>\n",
       "      <th>1979-01-01</th>\n",
       "      <td>0</td>\n",
       "      <td>0</td>\n",
       "      <td>0</td>\n",
       "      <td>2.073094</td>\n",
       "      <td>4.900000</td>\n",
       "      <td>0.383108</td>\n",
       "    </tr>\n",
       "    <tr>\n",
       "      <th>...</th>\n",
       "      <td>...</td>\n",
       "      <td>...</td>\n",
       "      <td>...</td>\n",
       "      <td>...</td>\n",
       "      <td>...</td>\n",
       "      <td>...</td>\n",
       "    </tr>\n",
       "    <tr>\n",
       "      <th>2005-10-01</th>\n",
       "      <td>0</td>\n",
       "      <td>0</td>\n",
       "      <td>0</td>\n",
       "      <td>7.474712</td>\n",
       "      <td>8.049891</td>\n",
       "      <td>1.077700</td>\n",
       "    </tr>\n",
       "    <tr>\n",
       "      <th>2006-01-01</th>\n",
       "      <td>0</td>\n",
       "      <td>0</td>\n",
       "      <td>0</td>\n",
       "      <td>7.528410</td>\n",
       "      <td>7.848790</td>\n",
       "      <td>1.080617</td>\n",
       "    </tr>\n",
       "    <tr>\n",
       "      <th>2006-04-01</th>\n",
       "      <td>0</td>\n",
       "      <td>0</td>\n",
       "      <td>0</td>\n",
       "      <td>7.583068</td>\n",
       "      <td>7.676880</td>\n",
       "      <td>1.083610</td>\n",
       "    </tr>\n",
       "    <tr>\n",
       "      <th>2006-07-01</th>\n",
       "      <td>0</td>\n",
       "      <td>0</td>\n",
       "      <td>0</td>\n",
       "      <td>7.638294</td>\n",
       "      <td>7.542621</td>\n",
       "      <td>1.086681</td>\n",
       "    </tr>\n",
       "    <tr>\n",
       "      <th>2006-10-01</th>\n",
       "      <td>0</td>\n",
       "      <td>0</td>\n",
       "      <td>0</td>\n",
       "      <td>7.693738</td>\n",
       "      <td>7.447231</td>\n",
       "      <td>1.089828</td>\n",
       "    </tr>\n",
       "  </tbody>\n",
       "</table>\n",
       "<p>116 rows × 6 columns</p>\n",
       "</div>"
      ],
      "text/plain": [
       "            d11_d5_cale  dum_1982q3  dum_1983q1  tc_d11_d5      tcho  \\\n",
       "1978-01-01            0           0           0   1.853796  4.500000   \n",
       "1978-04-01            0           0           0   1.908479  4.500000   \n",
       "1978-07-01            0           0           0   1.973674  4.500000   \n",
       "1978-10-01            0           0           0   2.028235  4.700000   \n",
       "1979-01-01            0           0           0   2.073094  4.900000   \n",
       "...                 ...         ...         ...        ...       ...   \n",
       "2005-10-01            0           0           0   7.474712  8.049891   \n",
       "2006-01-01            0           0           0   7.528410  7.848790   \n",
       "2006-04-01            0           0           0   7.583068  7.676880   \n",
       "2006-07-01            0           0           0   7.638294  7.542621   \n",
       "2006-10-01            0           0           0   7.693738  7.447231   \n",
       "\n",
       "            td_p3m_d5  \n",
       "1978-01-01   0.346767  \n",
       "1978-04-01   0.355207  \n",
       "1978-07-01   0.365245  \n",
       "1978-10-01   0.373536  \n",
       "1979-01-01   0.383108  \n",
       "...               ...  \n",
       "2005-10-01   1.077700  \n",
       "2006-01-01   1.080617  \n",
       "2006-04-01   1.083610  \n",
       "2006-07-01   1.086681  \n",
       "2006-10-01   1.089828  \n",
       "\n",
       "[116 rows x 6 columns]"
      ]
     },
     "execution_count": 14,
     "metadata": {},
     "output_type": "execute_result"
    }
   ],
   "source": [
    "test.data_eq"
   ]
  },
  {
   "cell_type": "code",
   "execution_count": 16,
   "metadata": {},
   "outputs": [
    {
     "data": {
      "text/plain": [
       "d11_d5_cale    0.000000\n",
       "dum_1982q3     0.000000\n",
       "dum_1983q1     0.000000\n",
       "tc_d11_d5      2.356336\n",
       "tcho           5.100000\n",
       "td_p3m_d5      0.432740\n",
       "Name: 1980-01-01 00:00:00, dtype: float64"
      ]
     },
     "execution_count": 16,
     "metadata": {},
     "output_type": "execute_result"
    }
   ],
   "source": [
    "test.data_eq.iloc[8,:]"
   ]
  },
  {
   "cell_type": "code",
   "execution_count": 17,
   "metadata": {},
   "outputs": [],
   "source": [
    "dataset_eq = test.data_eq.to_numpy() # conversion en tableau numpy "
   ]
  },
  {
   "cell_type": "markdown",
   "metadata": {},
   "source": [
    "Création de la fonction d'estimation (somme des carrés des résidus)"
   ]
  },
  {
   "cell_type": "code",
   "execution_count": 18,
   "metadata": {},
   "outputs": [],
   "source": [
    "test.create_estimfun_python()"
   ]
  },
  {
   "cell_type": "code",
   "execution_count": 19,
   "metadata": {},
   "outputs": [
    {
     "name": "stdout",
     "output_type": "stream",
     "text": [
      "\t_res = 0\n",
      "\tfor _t in range(_t_start,_t_stop):\n",
      "\t\t_res += (((log(_data[_t-0,3])- (log(_data[_t-1,3]))))-((((((_z[1])+((_z[0])*((log(_data[_t-1,3])- (log(_data[_t-2,3]))))))+((_z[4])*((log(_data[_t-0,5])- (log(_data[_t-1,5]))))))+((_z[3])*(((_data[_t-0,1])-(_data[_t-0,2])))))+((_z[2])*(log(_data[_t-0,4]))))+(_data[_t-0,0])))**2\n",
      "\n"
     ]
    }
   ],
   "source": [
    "print(test.fun_text)"
   ]
  },
  {
   "cell_type": "code",
   "execution_count": 22,
   "metadata": {},
   "outputs": [],
   "source": [
    "def f_test(_z,_t_start,_t_stop,_data):\n",
    "    _res = 0\n",
    "    for _t in range(_t_start,_t_stop):\n",
    "        _res += (((log(_data[_t-0,3])- (log(_data[_t-1,3]))))-((((((_z[1])+((_z[0])*((log(_data[_t-1,3])- (log(_data[_t-2,3]))))))+((_z[4])*((log(_data[_t-0,5])- (log(_data[_t-1,5]))))))+((_z[3])*(((_data[_t-0,1])-(_data[_t-0,2])))))+((_z[2])*(log(_data[_t-0,4]))))+(_data[_t-0,0])))**2\n",
    "    return _res"
   ]
  },
  {
   "cell_type": "markdown",
   "metadata": {},
   "source": [
    "Valeurs de test (documentation Grocer)"
   ]
  },
  {
   "cell_type": "code",
   "execution_count": 23,
   "metadata": {},
   "outputs": [
    {
     "data": {
      "text/plain": [
       "0.33881479999999997"
      ]
     },
     "execution_count": 23,
     "metadata": {},
     "output_type": "execute_result"
    }
   ],
   "source": [
    "coeffmod['ar1d11d5']"
   ]
  },
  {
   "cell_type": "code",
   "execution_count": 24,
   "metadata": {},
   "outputs": [
    {
     "data": {
      "text/plain": [
       "0.022298"
      ]
     },
     "execution_count": 24,
     "metadata": {},
     "output_type": "execute_result"
    }
   ],
   "source": [
    "coeffmod['c0d11d5']"
   ]
  },
  {
   "cell_type": "code",
   "execution_count": 25,
   "metadata": {},
   "outputs": [
    {
     "data": {
      "text/plain": [
       "-0.008696200000000001"
      ]
     },
     "execution_count": 25,
     "metadata": {},
     "output_type": "execute_result"
    }
   ],
   "source": [
    "coeffmod['c3d11dim5']"
   ]
  },
  {
   "cell_type": "code",
   "execution_count": 26,
   "metadata": {},
   "outputs": [
    {
     "data": {
      "text/plain": [
       "-0.007490999999999999"
      ]
     },
     "execution_count": 26,
     "metadata": {},
     "output_type": "execute_result"
    }
   ],
   "source": [
    "coeffmod['dum1d11d5']"
   ]
  },
  {
   "cell_type": "code",
   "execution_count": 27,
   "metadata": {},
   "outputs": [
    {
     "data": {
      "text/plain": [
       "0.4251324000000001"
      ]
     },
     "execution_count": 27,
     "metadata": {},
     "output_type": "execute_result"
    }
   ],
   "source": [
    "coeffmod['pc0d11d5']"
   ]
  },
  {
   "cell_type": "code",
   "execution_count": null,
   "metadata": {},
   "outputs": [],
   "source": []
  },
  {
   "cell_type": "code",
   "execution_count": null,
   "metadata": {},
   "outputs": [],
   "source": []
  },
  {
   "cell_type": "code",
   "execution_count": 29,
   "metadata": {},
   "outputs": [],
   "source": [
    "from scipy.optimize import minimize"
   ]
  },
  {
   "cell_type": "code",
   "execution_count": 31,
   "metadata": {},
   "outputs": [],
   "source": [
    "from math import log"
   ]
  },
  {
   "cell_type": "code",
   "execution_count": 35,
   "metadata": {},
   "outputs": [
    {
     "data": {
      "text/plain": [
       "      fun: 0.0013267899723080588\n",
       " hess_inv: array([[ 2.30976597e+02, -8.08581491e+00,  3.14883780e+00,\n",
       "        -1.59628213e+00, -1.51913861e+02],\n",
       "       [-8.08581491e+00,  2.57818005e+00, -1.11729959e+00,\n",
       "        -2.85461564e-02, -8.56280484e+00],\n",
       "       [ 3.14883780e+00, -1.11729959e+00,  4.86566761e-01,\n",
       "         1.41886403e-02,  3.83485292e+00],\n",
       "       [-1.59628213e+00, -2.85461564e-02,  1.41886403e-02,\n",
       "         2.65372042e-01,  1.84073626e+00],\n",
       "       [-1.51913861e+02, -8.56280484e+00,  3.83485292e+00,\n",
       "         1.84073626e+00,  2.30904285e+02]])\n",
       "      jac: array([-8.21644790e-07,  6.31553121e-09, -1.86264515e-09,  8.36735126e-09,\n",
       "        7.62607669e-07])\n",
       "  message: 'Optimization terminated successfully.'\n",
       "     nfev: 175\n",
       "      nit: 20\n",
       "     njev: 25\n",
       "   status: 0\n",
       "  success: True\n",
       "        x: array([ 0.33887722,  0.02200758, -0.00857382, -0.00747839,  0.42728935])"
      ]
     },
     "execution_count": 35,
     "metadata": {},
     "output_type": "execute_result"
    }
   ],
   "source": [
    "minimize(f_test, [0,0,0,0,0], tol=1e-5, args=(8,113,dataset_eq))"
   ]
  },
  {
   "cell_type": "code",
   "execution_count": null,
   "metadata": {},
   "outputs": [],
   "source": []
  },
  {
   "cell_type": "code",
   "execution_count": null,
   "metadata": {},
   "outputs": [],
   "source": []
  },
  {
   "cell_type": "code",
   "execution_count": null,
   "metadata": {},
   "outputs": [],
   "source": []
  },
  {
   "cell_type": "markdown",
   "metadata": {},
   "source": [
    "# Calage du modèle sur données historiques (1980Q3 - 2006Q4) #"
   ]
  },
  {
   "cell_type": "markdown",
   "metadata": {},
   "source": [
    "La part d'inexpliqué du modèle est quantifiée par le calcul des valeurs des cales sur une période historique. Cette étape repose sur une étape d'inversion :\n",
    " * on rend endogènes les variables de type policy (les cales) qui étaient considérées initialement exogènes\n",
    " * on rend exogènes les variables endogènes historiques\n",
    " * on simule le modèle ainsi"
   ]
  },
  {
   "cell_type": "markdown",
   "metadata": {},
   "source": [
    "Nom des endogènes associées à des cales dans le modèle :"
   ]
  },
  {
   "cell_type": "code",
   "execution_count": null,
   "metadata": {},
   "outputs": [],
   "source": [
    "endo_cales = [\"tc_d11_d5\",\"tc_d41_s14s3\",\"tc_d4z_s14s3\",\"tc_d5_s14e3\",\n",
    "              \"tc_emps_d7\",\"td_p3a_d5\",\"td_p3g_d5\",\"td_p3m_d1\",\"td_p3m_d5\",\n",
    "              \"td_p51g_d5\",\"td_p51m_d1\",\"td_p51m_d5\",\"td_p51t_d1\",\"td_p51t_d5\",\n",
    "              \"td_p523_d1\",\"td_p523_d3\",\"td_p6_d1\",\"td_p6_d5\",\"td_p7_d1\",\n",
    "              \"td_p7_d5\",\"td_pint_d5\"]"
   ]
  },
  {
   "cell_type": "markdown",
   "metadata": {},
   "source": [
    "On va procéder à une inversion du modèle pour calculer les valeurs historiques des cales, ce qui nécessite de définir un nouveau modèle tenant compte du changement de statut des variables."
   ]
  },
  {
   "cell_type": "code",
   "execution_count": null,
   "metadata": {},
   "outputs": [],
   "source": [
    "colibri_inv = colibri.copy()"
   ]
  },
  {
   "cell_type": "code",
   "execution_count": null,
   "metadata": {},
   "outputs": [],
   "source": [
    "list_policy = colibri.name_policy_list.copy()"
   ]
  },
  {
   "cell_type": "code",
   "execution_count": null,
   "metadata": {},
   "outputs": [],
   "source": [
    "list_policy"
   ]
  },
  {
   "cell_type": "code",
   "execution_count": null,
   "metadata": {
    "scrolled": true
   },
   "outputs": [],
   "source": [
    "for item in list_policy :\n",
    "    t.changesym(colibri_inv,\"endogenous\",item)"
   ]
  },
  {
   "cell_type": "code",
   "execution_count": null,
   "metadata": {},
   "outputs": [],
   "source": [
    "for item in endo_cales :\n",
    "    t.changesym(colibri_inv,\"exogenous\",item)"
   ]
  },
  {
   "cell_type": "markdown",
   "metadata": {},
   "source": [
    "On construit le nouveau modèle :"
   ]
  },
  {
   "cell_type": "code",
   "execution_count": null,
   "metadata": {},
   "outputs": [],
   "source": [
    "colibri_inv.build_model('colibri_inv')"
   ]
  },
  {
   "cell_type": "markdown",
   "metadata": {},
   "source": [
    "Le nouveau modèle a été construit (ainsi que les fonctions de résolution associées). On procède au calage :"
   ]
  },
  {
   "cell_type": "code",
   "execution_count": null,
   "metadata": {
    "scrolled": true
   },
   "outputs": [],
   "source": [
    "df_calage = t.simulate(datamodel,coeffmod,\"1980Q3\",\"2006Q4\",'colibri_inv')"
   ]
  },
  {
   "cell_type": "markdown",
   "metadata": {},
   "source": [
    "Les cales ont été calculées."
   ]
  },
  {
   "cell_type": "code",
   "execution_count": null,
   "metadata": {},
   "outputs": [],
   "source": [
    "df_calage[list_policy].tail()"
   ]
  },
  {
   "cell_type": "markdown",
   "metadata": {},
   "source": [
    "Si tout se passe bien, si l'on calcule à nouveau les variables endogènes du modèle en prenant comme exogènes les cales ainsi calculées, on doit retrouver exactement les valeurs historiques initiales."
   ]
  },
  {
   "cell_type": "code",
   "execution_count": null,
   "metadata": {},
   "outputs": [],
   "source": [
    "df_verif = t.simulate(df_calage,coeffmod,\"1980Q3\",\"2006Q4\",'colibri')"
   ]
  },
  {
   "cell_type": "code",
   "execution_count": null,
   "metadata": {},
   "outputs": [],
   "source": [
    "variation_relative=abs(100*(df_verif/datamodel-1))\n",
    "stat_rel=variation_relative[colibri.name_endo_list].describe()[colibri.name_endo_list]\n",
    "stat_rel"
   ]
  },
  {
   "cell_type": "code",
   "execution_count": null,
   "metadata": {
    "scrolled": true
   },
   "outputs": [],
   "source": [
    "variation_absolue=df_verif-datamodel\n",
    "stat_abs=variation_absolue.describe()[colibri.name_endo_list]\n",
    "stat_abs"
   ]
  },
  {
   "cell_type": "markdown",
   "metadata": {},
   "source": [
    "# Construction d'une base de données pour tester les fonctions d'extrapolations de séries.  #"
   ]
  },
  {
   "cell_type": "markdown",
   "metadata": {},
   "source": [
    "Les cales et les exogènes sont prolongées à leur dernière valeur observée. Les tendances sont prolongées affines et les dummy trimestrielles sont prolongées."
   ]
  },
  {
   "cell_type": "code",
   "execution_count": null,
   "metadata": {},
   "outputs": [],
   "source": [
    "#Prolongement des cales à leur dernière valeur observée\n",
    "liste_policy=[]\n",
    "i=0\n",
    "for item in colibri.name_policy_list:\n",
    "    liste_policy.append([item,'constant',['2007Q1','2010Q4'],'last'])\n",
    "    i+=1\n",
    "    \n",
    "db_extrapol_1=ts.extrapolate_series(df_calage,liste_policy)"
   ]
  },
  {
   "cell_type": "code",
   "execution_count": null,
   "metadata": {},
   "outputs": [],
   "source": [
    "#Prolongement des exogènes à leur dernière valeur\n",
    "liste_exo=[]\n",
    "i=0\n",
    "for item in colibri.name_exo_list:\n",
    "    liste_exo.append([item,'constant',['2007Q1','2010Q4'],'last'])\n",
    "    i+=1\n",
    "db_extrapol_1=ts.extrapolate_series(db_extrapol_1,liste_exo)"
   ]
  },
  {
   "cell_type": "code",
   "execution_count": null,
   "metadata": {},
   "outputs": [],
   "source": [
    "#Prolongement de la tendance\n",
    "db_extrapol_1=ts.extrapolate_series(db_extrapol_1,[['time','affine',['2007Q1','2010Q4'],1,1]])"
   ]
  },
  {
   "cell_type": "code",
   "execution_count": null,
   "metadata": {
    "scrolled": true
   },
   "outputs": [],
   "source": [
    "#Prolongement des dummy trimestrielles\n",
    "liste_dummy_trim=[['trim1','dummy_trim',['2007Q1','2010Q4'],[1,0,0,0]],\n",
    "                 ['trim2','dummy_trim',['2007Q1','2010Q4'],[0,1,0,0]],\n",
    "                 ['trim3','dummy_trim',['2007Q1','2010Q4'],[0,0,1,0]],\n",
    "                 ['trim4','dummy_trim',['2007Q1','2010Q4'],[0,0,0,1]]]\n",
    "\n",
    "db_extrapol_1=ts.extrapolate_series(db_extrapol_1,liste_dummy_trim)"
   ]
  },
  {
   "cell_type": "code",
   "execution_count": null,
   "metadata": {},
   "outputs": [],
   "source": [
    "db_extrapol_1[colibri.name_exo_list].tail()"
   ]
  },
  {
   "cell_type": "markdown",
   "metadata": {},
   "source": [
    "Le modèle peut ensuite être simulé sur cette nouvelle base de données prolongée, pour des dates qui n'étaient pas dans la base de données historiques initiale"
   ]
  },
  {
   "cell_type": "code",
   "execution_count": null,
   "metadata": {
    "scrolled": true
   },
   "outputs": [],
   "source": [
    "simul_1=t.simulate(db_extrapol_1,coeffmod,'2007Q1','2010Q4','colibri')"
   ]
  },
  {
   "cell_type": "markdown",
   "metadata": {},
   "source": [
    "On peut faire de même en prolongant cette fois les exogènes en taux de croissance (en prévision d'une simulation d'un compte central)"
   ]
  },
  {
   "cell_type": "code",
   "execution_count": null,
   "metadata": {},
   "outputs": [],
   "source": [
    "#Prolongement des cales à leur dernière valeur\n",
    "liste_policy=[]\n",
    "i=0\n",
    "for item in colibri.name_policy_list:\n",
    "    liste_policy.append([item,'constant',['2007Q1','2010Q4'],'last'])\n",
    "    i+=1\n",
    "    \n",
    "db_extrapol_2=ts.extrapolate_series(df_calage,liste_policy)"
   ]
  },
  {
   "cell_type": "code",
   "execution_count": null,
   "metadata": {},
   "outputs": [],
   "source": [
    "#Prolongement des exogènes à un taux de croissance de 3%\n",
    "liste_exo=[]\n",
    "i=0\n",
    "for item in colibri.name_exo_list:\n",
    "    liste_exo.append([item,'taux de croissance',['2007Q1','2010Q4'],3])\n",
    "    i+=1\n",
    "db_extrapol_2=ts.extrapolate_series(db_extrapol_2,liste_exo)"
   ]
  },
  {
   "cell_type": "code",
   "execution_count": null,
   "metadata": {},
   "outputs": [],
   "source": [
    "#Prolongement de la tendance\n",
    "db_extrapol_2=ts.extrapolate_series(db_extrapol_2,[['time','affine',['2007Q1','2010Q4'],1,1]])"
   ]
  },
  {
   "cell_type": "code",
   "execution_count": null,
   "metadata": {},
   "outputs": [],
   "source": [
    "#Prolongement des dummy trimestrielles\n",
    "liste_dummy_trim=[['trim1','dummy_trim',['2007Q1','2010Q4'],[1,0,0,0]],\n",
    "                 ['trim2','dummy_trim',['2007Q1','2010Q4'],[0,1,0,0]],\n",
    "                 ['trim3','dummy_trim',['2007Q1','2010Q4'],[0,0,1,0]],\n",
    "                 ['trim4','dummy_trim',['2007Q1','2010Q4'],[0,0,0,1]]]\n",
    "\n",
    "db_extrapol_2=ts.extrapolate_series(db_extrapol_2,liste_dummy_trim)"
   ]
  },
  {
   "cell_type": "code",
   "execution_count": null,
   "metadata": {},
   "outputs": [],
   "source": [
    "db_extrapol_2[colibri.name_exo_list].tail()"
   ]
  },
  {
   "cell_type": "code",
   "execution_count": null,
   "metadata": {},
   "outputs": [],
   "source": [
    "simul_2=t.simulate(db_extrapol_2,coeffmod,'2007Q1','2010Q4','colibri')"
   ]
  },
  {
   "cell_type": "markdown",
   "metadata": {},
   "source": [
    "# On compare les deux simulations (en prévision d'une fonction permettant de présenter les résultats d'une variante) # "
   ]
  },
  {
   "cell_type": "code",
   "execution_count": null,
   "metadata": {},
   "outputs": [],
   "source": [
    "(comp_trim_abs,comp_ann_abs)=ts.compare_series('absolu',simul_1,simul_2,colibri.name_endo_list,'2007Q1','2010Q4')"
   ]
  },
  {
   "cell_type": "code",
   "execution_count": null,
   "metadata": {},
   "outputs": [],
   "source": [
    "comp_ann_abs"
   ]
  },
  {
   "cell_type": "code",
   "execution_count": null,
   "metadata": {},
   "outputs": [],
   "source": [
    "(comp_trim_rel,comp_ann_rel)=ts.compare_series('relatif',simul_1,simul_2,colibri.name_endo_list,'2007Q1','2010Q4')"
   ]
  },
  {
   "cell_type": "code",
   "execution_count": null,
   "metadata": {},
   "outputs": [],
   "source": [
    "comp_ann_rel"
   ]
  },
  {
   "cell_type": "markdown",
   "metadata": {},
   "source": [
    "# Simulation d'un choc permanent de demande mondiale de 1% à partir de 1990q1 #"
   ]
  },
  {
   "cell_type": "code",
   "execution_count": null,
   "metadata": {},
   "outputs": [],
   "source": [
    "info_dict = {\"variable\" : [\"demmon\"] , \"type\" : \"pctge\" , \"value\" : 1}"
   ]
  },
  {
   "cell_type": "code",
   "execution_count": null,
   "metadata": {},
   "outputs": [],
   "source": [
    "info = [info_dict]"
   ]
  },
  {
   "cell_type": "code",
   "execution_count": null,
   "metadata": {},
   "outputs": [],
   "source": [
    "results=t.simul_shock('colibri',coeffmod,df_calage,start_date_shock='1990Q1',end_date_shock='2006Q4',start_date_sim='1985Q1',end_date_sim='2006Q4',info_shock=info)"
   ]
  },
  {
   "cell_type": "code",
   "execution_count": null,
   "metadata": {},
   "outputs": [],
   "source": [
    "(choc_demmon_trim,choc_demmon_an)=ts.compare_series('relatif',df_calage,results,colibri.name_endo_list,'1985Q1','2006Q4')"
   ]
  },
  {
   "cell_type": "code",
   "execution_count": null,
   "metadata": {
    "scrolled": true
   },
   "outputs": [],
   "source": [
    "choc_demmon_an"
   ]
  },
  {
   "cell_type": "code",
   "execution_count": null,
   "metadata": {},
   "outputs": [],
   "source": []
  }
 ],
 "metadata": {
  "kernelspec": {
   "display_name": "Python 3",
   "language": "python",
   "name": "python3"
  },
  "language_info": {
   "codemirror_mode": {
    "name": "ipython",
    "version": 3
   },
   "file_extension": ".py",
   "mimetype": "text/x-python",
   "name": "python",
   "nbconvert_exporter": "python",
   "pygments_lexer": "ipython3",
   "version": "3.7.3"
  }
 },
 "nbformat": 4,
 "nbformat_minor": 4
}
